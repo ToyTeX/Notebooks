{
 "cells": [
  {
   "cell_type": "markdown",
   "id": "3943947d-3173-4232-bd8a-2e4b80f1fe9a",
   "metadata": {},
   "source": [
    "- - - Input: positive integers a, n, where a is a base and n corresponds to the nth Fermat Prime\n",
    "- - - Output: a positive integer m, the result of a to the power of the n-1 Fermat Prime modulo the nth Fermat Prime "
   ]
  },
  {
   "cell_type": "code",
   "execution_count": 41,
   "id": "d843445f-ec53-493c-95a4-ba197543a599",
   "metadata": {
    "tags": []
   },
   "outputs": [
    {
     "name": "stdout",
     "output_type": "stream",
     "text": []
    }
   ],
   "source": [
    "// Define the nth Fermat number\n",
    "FermatNumber := func<n | 2^(2^n) + 1>;\n",
    "\n",
    "function ModFP(a, n)\n",
    "    // Check if a and n are positive integers\n",
    "    if not (Type(a) eq RngIntElt and Type(n) eq RngIntElt and a gt 0 and n ge 0) then\n",
    "        error \"Input must be positive integers (a > 0, n >= 0).\";\n",
    "    end if;\n",
    "    \n",
    "    // Calculate the nth Fermat number\n",
    "    F_n := FermatNumber(n);\n",
    "    \n",
    "    // Calculate F_n - 1 (the exponent for Fermat's Little Theorem)\n",
    "    exponent := F_n - 1;\n",
    "    \n",
    "    // Compute a^(F_n - 1) mod F_n\n",
    "    rem := Modexp(a, exponent, F_n);\n",
    "    \n",
    "    // Check the result and print appropriate message\n",
    "    if rem eq 1 then\n",
    "        print \"Satisfies Fermat's Little Theorem\";\n",
    "    else\n",
    "        print \"a is a witness that F_n is composite\";\n",
    "    end if;\n",
    "    \n",
    "    return rem;\n",
    "end function;"
   ]
  },
  {
   "cell_type": "code",
   "execution_count": 42,
   "id": "923ce997-422e-4228-aece-6911258a4c00",
   "metadata": {
    "tags": []
   },
   "outputs": [
    {
     "name": "stdout",
     "output_type": "stream",
     "text": [
      "65537\n"
     ]
    }
   ],
   "source": [
    "// Examples testing a < F_4\n",
    "FermatNumber(4)"
   ]
  },
  {
   "cell_type": "code",
   "execution_count": 34,
   "id": "bbc0eb1c-c634-4dd5-acef-8605341de156",
   "metadata": {
    "tags": []
   },
   "outputs": [
    {
     "name": "stdout",
     "output_type": "stream",
     "text": [
      "Satisfies Fermat's Little Theorem\n",
      "1\n"
     ]
    }
   ],
   "source": [
    "ModFP(100, 4)"
   ]
  },
  {
   "cell_type": "code",
   "execution_count": 43,
   "id": "25c0a8b7-fb92-438a-8591-0a7c2632cc9f",
   "metadata": {
    "tags": []
   },
   "outputs": [
    {
     "name": "stdout",
     "output_type": "stream",
     "text": [
      "Satisfies Fermat's Little Theorem\n",
      "1\n"
     ]
    }
   ],
   "source": [
    "ModFP(888, 4)"
   ]
  },
  {
   "cell_type": "code",
   "execution_count": 44,
   "id": "d23873fe-551b-48b9-86d0-e12ecd6d6345",
   "metadata": {
    "tags": []
   },
   "outputs": [
    {
     "name": "stdout",
     "output_type": "stream",
     "text": [
      "Satisfies Fermat's Little Theorem\n",
      "1\n"
     ]
    }
   ],
   "source": [
    "ModFP(2225, 4)"
   ]
  },
  {
   "cell_type": "code",
   "execution_count": 45,
   "id": "bc4b48bc-83ed-4d66-a00c-19da330e7ce1",
   "metadata": {
    "tags": []
   },
   "outputs": [
    {
     "name": "stdout",
     "output_type": "stream",
     "text": [
      "Satisfies Fermat's Little Theorem\n",
      "1\n"
     ]
    }
   ],
   "source": [
    "ModFP(768, 4)"
   ]
  },
  {
   "cell_type": "code",
   "execution_count": 46,
   "id": "2a5cfda0-3cdf-495b-915a-36afb3354773",
   "metadata": {
    "tags": []
   },
   "outputs": [
    {
     "name": "stdout",
     "output_type": "stream",
     "text": [
      "Satisfies Fermat's Little Theorem\n",
      "1\n"
     ]
    }
   ],
   "source": [
    "ModFP(10111, 4)"
   ]
  },
  {
   "cell_type": "code",
   "execution_count": 38,
   "id": "4629b1c7-0ebc-46f7-903c-691a7ac9e38b",
   "metadata": {
    "tags": []
   },
   "outputs": [
    {
     "name": "stdout",
     "output_type": "stream",
     "text": [
      "4294967297\n"
     ]
    }
   ],
   "source": [
    "// An a s.t. that F_5 does not satisfy FLT\n",
    "FermatNumber(5)"
   ]
  },
  {
   "cell_type": "code",
   "execution_count": 39,
   "id": "bb91584f-083f-444e-b965-e255f436cd6b",
   "metadata": {
    "tags": []
   },
   "outputs": [
    {
     "name": "stdout",
     "output_type": "stream",
     "text": [
      "a is a witness that F_n is composite\n",
      "3029026160\n"
     ]
    }
   ],
   "source": [
    "ModFP(3, 5)"
   ]
  },
  {
   "cell_type": "code",
   "execution_count": 36,
   "id": "86bf9a65-c951-4439-8036-198e47dc7011",
   "metadata": {
    "tags": []
   },
   "outputs": [
    {
     "name": "stdout",
     "output_type": "stream",
     "text": [
      "a is a witness that F_n is composite\n",
      "8752249535465629170\n"
     ]
    }
   ],
   "source": [
    "// F_6 is composite \n",
    "ModFP(3, 6)"
   ]
  },
  {
   "cell_type": "code",
   "execution_count": 40,
   "id": "95521534-49cd-4f41-9d59-f0f5882dca90",
   "metadata": {
    "tags": []
   },
   "outputs": [
    {
     "name": "stdout",
     "output_type": "stream",
     "text": [
      "a is a witness that F_n is composite\n",
      "8752249535465629170\n"
     ]
    }
   ],
   "source": [
    "ModFP(3, 6)"
   ]
  }
 ],
 "metadata": {
  "kernelspec": {
   "display_name": "Magma",
   "language": "magma",
   "name": "magma"
  },
  "language_info": {
   "codemirror_mode": "pascal",
   "file_extension": ".m",
   "mimetype": "text/x-pascal",
   "name": "magma",
   "version": "2.29-2\r"
  }
 },
 "nbformat": 4,
 "nbformat_minor": 5
}
