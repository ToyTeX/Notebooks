{
  "nbformat": 4,
  "nbformat_minor": 0,
  "metadata": {
    "colab": {
      "provenance": [],
      "authorship_tag": "ABX9TyOKnAP4CNUl07ii3ZeXea4O",
      "include_colab_link": true
    },
    "kernelspec": {
      "name": "python3",
      "display_name": "Python 3"
    },
    "language_info": {
      "name": "python"
    }
  },
  "cells": [
    {
      "cell_type": "markdown",
      "metadata": {
        "id": "view-in-github",
        "colab_type": "text"
      },
      "source": [
        "<a href=\"https://colab.research.google.com/github/ToyTeX/NumericalNotebooks/blob/main/GeodesicPytorchAlgo.ipynb\" target=\"_parent\"><img src=\"https://colab.research.google.com/assets/colab-badge.svg\" alt=\"Open In Colab\"/></a>"
      ]
    },
    {
      "cell_type": "code",
      "execution_count": null,
      "metadata": {
        "id": "XGpVt3_tZxpe"
      },
      "outputs": [],
      "source": [
        "def compute_path(latent_A, latent_B, model, n_steps=100):\n",
        "    # Original pathfinding logic here\n",
        "    pass\n",
        "\n",
        "def compute_path2(latent_A, latent_B, model, n_steps=100):\n",
        "    # Alternative pathfinding logic here\n",
        "    pass\n",
        "\n",
        "# --------------------------------------\n",
        "# Geodesic-based pathfinding in latent space\n",
        "# --------------------------------------\n",
        "\n",
        "import torch\n",
        "\n",
        "def compute_geodesic_path(latent_A, latent_B, decoder, n_steps=100, n_iter=10, lr=0.05):\n",
        "    \"\"\"\n",
        "    Approximate a geodesic between latent_A and latent_B in latent space\n",
        "    using the decoder to estimate the latent manifold.\n",
        "\n",
        "    decoder: neural network decoder(z) representing the manifold\n",
        "    \"\"\"\n",
        "    # Create initial linear path\n",
        "    z_path = torch.stack([\n",
        "        latent_A + (latent_B - latent_A) * t\n",
        "        for t in torch.linspace(0, 1, n_steps)\n",
        "    ], dim=0)\n",
        "\n",
        "    # Only optimize interior points\n",
        "    z_path = z_path.detach()\n",
        "    z_path.requires_grad = False\n",
        "    z_path_param = torch.nn.Parameter(z_path[1:-1].clone(), requires_grad=True)\n",
        "    optimizer = torch.optim.Adam([z_path_param], lr=lr)\n",
        "\n",
        "    for _ in range(n_iter):\n",
        "        optimizer.zero_grad()\n",
        "        energy = 0.0\n",
        "        # Reconstruct full path with fixed endpoints\n",
        "        full_path = torch.cat([z_path[:1], z_path_param, z_path[-1:]], dim=0)\n",
        "        for i in range(n_steps - 1):\n",
        "            z1 = full_path[i]\n",
        "            z2 = full_path[i + 1]\n",
        "            dz = z2 - z1\n",
        "\n",
        "            mid_z = (z1 + z2) / 2\n",
        "            mid_z = mid_z.detach().requires_grad_(True)\n",
        "            x = decoder(mid_z)\n",
        "            # Compute Jacobian of decoder at mid_z\n",
        "            J = torch.autograd.functional.jacobian(decoder, mid_z, create_graph=True)\n",
        "            if J.ndim > 2:\n",
        "                J = J.squeeze(0)\n",
        "            pushforward = torch.matmul(J, dz)\n",
        "            energy += torch.sum(pushforward**2)\n",
        "\n",
        "        energy.backward()\n",
        "        optimizer.step()\n",
        "\n",
        "    # Return the optimized path with endpoints\n",
        "    return torch.cat([z_path[:1], z_path_param.detach(), z_path[-1:]], dim=0)"
      ]
    }
  ]
}